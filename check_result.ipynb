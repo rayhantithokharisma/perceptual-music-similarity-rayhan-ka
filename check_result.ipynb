{
 "cells": [
  {
   "cell_type": "code",
   "execution_count": 2,
   "id": "2da78dc0-4fad-47f3-8516-2ba5950225de",
   "metadata": {},
   "outputs": [],
   "source": [
    "import pandas as pd\n",
    "import pickle\n",
    "import numpy as np"
   ]
  },
  {
   "cell_type": "code",
   "execution_count": 3,
   "id": "f7e2b92d-ad70-469e-bf3c-b5b1fccbacee",
   "metadata": {},
   "outputs": [],
   "source": [
    "with open('./result/simple_fast_covers80_v2.pickle', 'rb') as f:\n",
    "    data = pickle.load(f)"
   ]
  },
  {
   "cell_type": "code",
   "execution_count": null,
   "id": "0943e2af-f45d-464d-93b7-79aee135ed19",
   "metadata": {},
   "outputs": [],
   "source": [
    "sum([1440, 168, 60, 420, 1176, 420])"
   ]
  },
  {
   "cell_type": "code",
   "execution_count": 6,
   "id": "afa920f8-c2ba-4edb-a117-748acaa0206b",
   "metadata": {},
   "outputs": [
    {
     "data": {
      "text/plain": [
       "164"
      ]
     },
     "execution_count": 6,
     "metadata": {},
     "output_type": "execute_result"
    }
   ],
   "source": [
    "import os\n",
    "len(os.listdir('/home/jupyter/rayhan_workdir/personal/perceptual-music-similarity-rayhan-ka/data/covers80/cover/rp'))"
   ]
  },
  {
   "cell_type": "code",
   "execution_count": 12,
   "id": "72f68557-de62-44e9-b0a0-9a32015438ae",
   "metadata": {},
   "outputs": [
    {
     "name": "stdout",
     "output_type": "stream",
     "text": [
      "Mean Reciprocal Rank (MRR): 0.17\n"
     ]
    }
   ],
   "source": [
    "\n",
    "\n",
    "# Example data: List of queries and their ranked lists of items\n",
    "queries_with_results = [\n",
    "    (\"query1\", [\"item3\", \"item1\", \"item2\"]),\n",
    "    (\"query2\", [\"item2\", \"item3\", \"item1\"]),\n",
    "    (\"query3\", [\"item1\", \"query3\", \"item3\"]),\n",
    "]\n",
    "\n",
    "# Calculate the MRR\n",
    "mrr = calculate_mrr(queries_with_results)--\n",
    "print(f\"Mean Reciprocal Rank (MRR): {mrr:.2f}\")\n"
   ]
  },
  {
   "cell_type": "code",
   "execution_count": 16,
   "id": "3277944d-40da-4003-b05f-9d05c54f1ae6",
   "metadata": {},
   "outputs": [
    {
     "data": {
      "text/plain": [
       "dict_keys(['original', 'retrieved'])"
      ]
     },
     "execution_count": 16,
     "metadata": {},
     "output_type": "execute_result"
    }
   ],
   "source": [
    "data[0].keys()"
   ]
  },
  {
   "cell_type": "code",
   "execution_count": 9,
   "id": "2405771a-b7d6-42ca-b4f1-8853c0a828a1",
   "metadata": {},
   "outputs": [
    {
     "data": {
      "text/plain": [
       "'2000205_0.gz'"
      ]
     },
     "execution_count": 9,
     "metadata": {},
     "output_type": "execute_result"
    }
   ],
   "source": [
    "data[0]['original']"
   ]
  },
  {
   "cell_type": "code",
   "execution_count": 10,
   "id": "d1f393b0-923e-4a4d-a8f4-17e26d8da942",
   "metadata": {},
   "outputs": [
    {
     "data": {
      "text/html": [
       "<div>\n",
       "<style scoped>\n",
       "    .dataframe tbody tr th:only-of-type {\n",
       "        vertical-align: middle;\n",
       "    }\n",
       "\n",
       "    .dataframe tbody tr th {\n",
       "        vertical-align: top;\n",
       "    }\n",
       "\n",
       "    .dataframe thead th {\n",
       "        text-align: right;\n",
       "    }\n",
       "</style>\n",
       "<table border=\"1\" class=\"dataframe\">\n",
       "  <thead>\n",
       "    <tr style=\"text-align: right;\">\n",
       "      <th></th>\n",
       "      <th>vid</th>\n",
       "      <th>distance</th>\n",
       "      <th>ranked</th>\n",
       "    </tr>\n",
       "  </thead>\n",
       "  <tbody>\n",
       "    <tr>\n",
       "      <th>0</th>\n",
       "      <td>2000205_2.gz</td>\n",
       "      <td>0.347774</td>\n",
       "      <td>1.0</td>\n",
       "    </tr>\n",
       "    <tr>\n",
       "      <th>1</th>\n",
       "      <td>2000205_1.gz</td>\n",
       "      <td>0.713450</td>\n",
       "      <td>2.0</td>\n",
       "    </tr>\n",
       "  </tbody>\n",
       "</table>\n",
       "</div>"
      ],
      "text/plain": [
       "            vid  distance  ranked\n",
       "0  2000205_2.gz  0.347774     1.0\n",
       "1  2000205_1.gz  0.713450     2.0"
      ]
     },
     "execution_count": 10,
     "metadata": {},
     "output_type": "execute_result"
    }
   ],
   "source": [
    "tmpdf = data[0]['retrieved']\n",
    "tmpdf[tmpdf['vid'].str.contains('2000205')]"
   ]
  },
  {
   "cell_type": "code",
   "execution_count": 29,
   "id": "642c289b-6183-4a58-9f56-8ea1ec34bfc8",
   "metadata": {},
   "outputs": [
    {
     "data": {
      "text/html": [
       "<div>\n",
       "<style scoped>\n",
       "    .dataframe tbody tr th:only-of-type {\n",
       "        vertical-align: middle;\n",
       "    }\n",
       "\n",
       "    .dataframe tbody tr th {\n",
       "        vertical-align: top;\n",
       "    }\n",
       "\n",
       "    .dataframe thead th {\n",
       "        text-align: right;\n",
       "    }\n",
       "</style>\n",
       "<table border=\"1\" class=\"dataframe\">\n",
       "  <thead>\n",
       "    <tr style=\"text-align: right;\">\n",
       "      <th></th>\n",
       "      <th>vid</th>\n",
       "      <th>distance</th>\n",
       "      <th>ranked</th>\n",
       "    </tr>\n",
       "  </thead>\n",
       "  <tbody>\n",
       "    <tr>\n",
       "      <th>0</th>\n",
       "      <td>2000205_2.gz</td>\n",
       "      <td>0.347774</td>\n",
       "      <td>1.0</td>\n",
       "    </tr>\n",
       "    <tr>\n",
       "      <th>1</th>\n",
       "      <td>2000205_1.gz</td>\n",
       "      <td>0.713450</td>\n",
       "      <td>2.0</td>\n",
       "    </tr>\n",
       "    <tr>\n",
       "      <th>2</th>\n",
       "      <td>2000133_1.gz</td>\n",
       "      <td>0.784433</td>\n",
       "      <td>3.0</td>\n",
       "    </tr>\n",
       "    <tr>\n",
       "      <th>3</th>\n",
       "      <td>2000200_1.gz</td>\n",
       "      <td>0.810776</td>\n",
       "      <td>4.0</td>\n",
       "    </tr>\n",
       "    <tr>\n",
       "      <th>4</th>\n",
       "      <td>2000188_1.gz</td>\n",
       "      <td>0.813627</td>\n",
       "      <td>5.0</td>\n",
       "    </tr>\n",
       "    <tr>\n",
       "      <th>...</th>\n",
       "      <td>...</td>\n",
       "      <td>...</td>\n",
       "      <td>...</td>\n",
       "    </tr>\n",
       "    <tr>\n",
       "      <th>159</th>\n",
       "      <td>2000187_1.gz</td>\n",
       "      <td>7.106819</td>\n",
       "      <td>160.0</td>\n",
       "    </tr>\n",
       "    <tr>\n",
       "      <th>160</th>\n",
       "      <td>2000174_1.gz</td>\n",
       "      <td>7.385264</td>\n",
       "      <td>161.0</td>\n",
       "    </tr>\n",
       "    <tr>\n",
       "      <th>161</th>\n",
       "      <td>2000181_2.gz</td>\n",
       "      <td>8.048319</td>\n",
       "      <td>162.0</td>\n",
       "    </tr>\n",
       "    <tr>\n",
       "      <th>162</th>\n",
       "      <td>2000159_2.gz</td>\n",
       "      <td>9.439821</td>\n",
       "      <td>163.0</td>\n",
       "    </tr>\n",
       "    <tr>\n",
       "      <th>163</th>\n",
       "      <td>2000198_2.gz</td>\n",
       "      <td>10.668722</td>\n",
       "      <td>164.0</td>\n",
       "    </tr>\n",
       "  </tbody>\n",
       "</table>\n",
       "<p>164 rows × 3 columns</p>\n",
       "</div>"
      ],
      "text/plain": [
       "              vid   distance  ranked\n",
       "0    2000205_2.gz   0.347774     1.0\n",
       "1    2000205_1.gz   0.713450     2.0\n",
       "2    2000133_1.gz   0.784433     3.0\n",
       "3    2000200_1.gz   0.810776     4.0\n",
       "4    2000188_1.gz   0.813627     5.0\n",
       "..            ...        ...     ...\n",
       "159  2000187_1.gz   7.106819   160.0\n",
       "160  2000174_1.gz   7.385264   161.0\n",
       "161  2000181_2.gz   8.048319   162.0\n",
       "162  2000159_2.gz   9.439821   163.0\n",
       "163  2000198_2.gz  10.668722   164.0\n",
       "\n",
       "[164 rows x 3 columns]"
      ]
     },
     "execution_count": 29,
     "metadata": {},
     "output_type": "execute_result"
    }
   ],
   "source": [
    "data[0]['retrieved']"
   ]
  },
  {
   "cell_type": "markdown",
   "id": "1cc26f10-9002-43d9-858f-0e991f849e82",
   "metadata": {},
   "source": [
    "# RHYTHM PATTERN COVERS80"
   ]
  },
  {
   "cell_type": "code",
   "execution_count": 36,
   "id": "0e023161-691b-40ca-8805-80437bccee40",
   "metadata": {},
   "outputs": [
    {
     "name": "stdout",
     "output_type": "stream",
     "text": [
      "Mean Rank :  55.8125\n"
     ]
    }
   ],
   "source": [
    "# MR\n",
    "\n",
    "with open('./result/rhythm_pattern_covers80.pickle', 'rb') as f:\n",
    "    data = pickle.load(f)\n",
    "\n",
    "\n",
    "mrs = []\n",
    "for row in data:\n",
    "    query = row['original']\n",
    "    retrieved = row['retrieved']\n",
    "    retrieved = retrieved[~retrieved.title.isin(list_original)].reset_index(drop = True)\n",
    "    query_base = query.split('_')[0]\n",
    "    is_relevant = [x.split('_')[0] == query_base for x in retrieved['title']]\n",
    "    retrieved['is_relevant'] = is_relevant\n",
    "    relevant_rank = retrieved[retrieved.is_relevant == True].rank_weighted_distance.min()\n",
    "    mrs.append(relevant_rank)\n",
    "    \n",
    "print('Mean Rank : ', sum(mrs)/ len(mrs))"
   ]
  },
  {
   "cell_type": "code",
   "execution_count": 40,
   "id": "e82bdcc9-a26c-4a50-bec9-5f30a482b30d",
   "metadata": {},
   "outputs": [
    {
     "name": "stdout",
     "output_type": "stream",
     "text": [
      "Mean Reciprocal Rank : 0.06824051556472654\n"
     ]
    }
   ],
   "source": [
    "# MRR\n",
    "\n",
    "with open('./result/rhythm_pattern_covers80.pickle', 'rb') as f:\n",
    "    data = pickle.load(f)\n",
    "\n",
    "def calculate_mrr(queries_with_results):\n",
    "    total_mrr = 0\n",
    "    num_queries = len(queries_with_results)\n",
    "\n",
    "    for query, ranked_items in queries_with_results:\n",
    "        relevant_found = Fals\n",
    "        for i, item in enumerate(ranked_items, start=1):\n",
    "            if item.split('_')[0] == query.split('_')[0]:  # Assuming the relevant item is the query itself for simplicity\n",
    "                total_mrr += 1 / i\n",
    "                relevant_found = True\n",
    "                break\n",
    "\n",
    "        if not relevant_found:\n",
    "            total_mrr += 0  # If no relevant item found for the query, add 0.\n",
    "\n",
    "    mrr = total_mrr / num_queries\n",
    "    return mrr\n",
    "\n",
    "\n",
    "with open('./result/rhythm_pattern_covers80.pickle', 'rb') as f:\n",
    "    data = pickle.load(f)\n",
    "\n",
    "\n",
    "mrrs = []\n",
    "for row in data:\n",
    "    query = row['original']\n",
    "    retrieved = row['retrieved']\n",
    "    retrieved = retrieved[retrieved.title != query].reset_index(drop = True)\n",
    "    sorted_retrieved = retrieved.sort_values(by = ['rank_weighted_distance'], ascending = True).reset_index(drop = True)\n",
    "    structure = (query, sorted_retrieved.title.tolist())\n",
    "    mrrs.append(structure)\n",
    "\n",
    "mrr = calculate_mrr(mrrs)\n",
    "print('Mean Reciprocal Rank :', mrr)"
   ]
  },
  {
   "cell_type": "code",
   "execution_count": 44,
   "id": "073c1c01-512e-4b91-b74c-0ecf664420e6",
   "metadata": {},
   "outputs": [
    {
     "name": "stdout",
     "output_type": "stream",
     "text": [
      "Median Rank :  43.0\n"
     ]
    }
   ],
   "source": [
    "# MDR\n",
    "\n",
    "with open('./result/rhythm_pattern_covers80.pickle', 'rb') as f:\n",
    "    data = pickle.load(f)\n",
    "    \n",
    "list_original = [x['original'] for x in data]\n",
    "\n",
    "mrs = []\n",
    "for row in data:\n",
    "    query = row['original']\n",
    "    retrieved = row['retrieved']\n",
    "    retrieved = retrieved[retrieved.title != query].reset_index(drop = True)\n",
    "    query_base = query.split('_')[0]\n",
    "    is_relevant = [x.split('_')[0] == query_base for x in retrieved['title']]\n",
    "    retrieved['is_relevant'] = is_relevant\n",
    "    relevant_rank = retrieved[retrieved.is_relevant == True].rank_weighted_distance.min()\n",
    "    mrs.append(relevant_rank)\n",
    "    \n",
    "print('Median Rank : ',np.median(mrs))"
   ]
  },
  {
   "cell_type": "code",
   "execution_count": 46,
   "id": "cd1eef56-467c-4e46-b17c-513f857460cf",
   "metadata": {},
   "outputs": [
    {
     "name": "stdout",
     "output_type": "stream",
     "text": [
      "Mean Average Precision :  0.05928727878582333\n"
     ]
    }
   ],
   "source": [
    "# MAP\n",
    "def calculate_average_precision(query_result, relevant_documents):\n",
    "    precision_sum = 0.0\n",
    "    relevant_count = 0\n",
    "\n",
    "    for i, document in enumerate(query_result):\n",
    "        if document.split('_')[0] == relevant_documents:\n",
    "            relevant_count += 1\n",
    "            precision_sum += relevant_count / (i + 1)  # Calculate precision at this rank\n",
    "\n",
    "    if relevant_count == 0:\n",
    "        return 0.0  # Return 0 if there are no relevant documents in the query result\n",
    "    else:\n",
    "        return precision_sum / relevant_count  # Average precision\n",
    "\n",
    "def calculate_mean_average_precision(query_results, relevance_judgments):\n",
    "    num_queries = len(query_results)\n",
    "    map_sum = 0.0\n",
    "\n",
    "    for i in range(num_queries):\n",
    "        average_precision = calculate_average_precision(query_results[i], relevance_judgments[i])\n",
    "        map_sum += average_precision\n",
    "\n",
    "    if num_queries == 0:\n",
    "        return 0.0  # Return 0 if there are no queries\n",
    "    else:\n",
    "        return map_sum / num_queries  # Mean Average Precision (MAP)\n",
    "    \n",
    "    \n",
    "with open('./result/rhythm_pattern_covers80.pickle', 'rb') as f:\n",
    "    data = pickle.load(f)\n",
    "\n",
    "returned_ranks = []\n",
    "relevant_base = []\n",
    "for row in data:\n",
    "    query = row['original']\n",
    "    retrieved = row['retrieved']\n",
    "    query_base = query.split('_')[0]\n",
    "    retrieved = retrieved[retrieved.title != query].reset_index(drop = True)\n",
    "    sorted_retrieved = retrieved.sort_values(by = ['rank_weighted_distance'], ascending = True).reset_index(drop = True)\n",
    "    returned = sorted_retrieved.iloc[:30].title.tolist()\n",
    "    returned_ranks.append(returned)\n",
    "    relevant_base.append(query_base)\n",
    "    \n",
    "print('Mean Average Precision : ', calculate_mean_average_precision(returned_ranks, relevant_base))\n",
    "\n",
    "    \n",
    "    "
   ]
  },
  {
   "cell_type": "code",
   "execution_count": null,
   "id": "5650a4f4-4597-4f33-931e-f7d29cf9d2a2",
   "metadata": {},
   "outputs": [],
   "source": []
  },
  {
   "cell_type": "markdown",
   "id": "8abf9ff6-7356-40c8-92ce-88e40e7d0723",
   "metadata": {},
   "source": [
    "# RHYTHM PATTERN PRODUCTION DATASET"
   ]
  },
  {
   "cell_type": "code",
   "execution_count": 53,
   "id": "78030671-cf20-4d4d-a989-39b3533f9e19",
   "metadata": {},
   "outputs": [
    {
     "name": "stdout",
     "output_type": "stream",
     "text": [
      "Mean Rank :  117.34615384615384\n"
     ]
    }
   ],
   "source": [
    "# MR\n",
    "\n",
    "with open('./result/rhythm_pattern_production_dataset.pickle', 'rb') as f:\n",
    "    data = pickle.load(f)\n",
    "list_original = [x['original'] for x in data]\n",
    "\n",
    "mrs = []\n",
    "for row in data:\n",
    "    query = row['original']\n",
    "    retrieved = row['retrieved']\n",
    "    retrieved = retrieved[~retrieved.title.isin(list_original)].reset_index(drop = True)\n",
    "    query_base = query.split('_')[0]\n",
    "    is_relevant = [x.split('_')[0] == query_base for x in retrieved['title']]\n",
    "    retrieved['is_relevant'] = is_relevant\n",
    "    relevant_rank = retrieved[retrieved.is_relevant == True].rank_weighted_distance.min()\n",
    "    mrs.append(relevant_rank)\n",
    "    \n",
    "print('Mean Rank : ', sum(mrs)/ len(mrs))"
   ]
  },
  {
   "cell_type": "code",
   "execution_count": 54,
   "id": "34fbba45-d537-416c-83e2-ae396a522a3b",
   "metadata": {},
   "outputs": [
    {
     "name": "stdout",
     "output_type": "stream",
     "text": [
      "Mean Reciprocal Rank : 0.613803154012476\n"
     ]
    }
   ],
   "source": [
    "# MRR\n",
    "\n",
    "with open('./result/rhythm_pattern_production_dataset.pickle', 'rb') as f:\n",
    "    data = pickle.load(f)\n",
    "\n",
    "def calculate_mrr(queries_with_results):\n",
    "    total_mrr = 0\n",
    "    num_queries = len(queries_with_results)\n",
    "\n",
    "    for query, ranked_items in queries_with_results:\n",
    "        relevant_found = False\n",
    "        for i, item in enumerate(ranked_items, start=1):\n",
    "            if item.split('_')[0] == query.split('_')[0]:  # Assuming the relevant item is the query itself for simplicity\n",
    "                total_mrr += 1 / i\n",
    "                relevant_found = True\n",
    "                break\n",
    "\n",
    "        if not relevant_found:\n",
    "            total_mrr += 0  # If no relevant item found for the query, add 0.\n",
    "\n",
    "    mrr = total_mrr / num_queries\n",
    "    return mrr\n",
    "\n",
    "\n",
    "with open('./result/rhythm_pattern_production_dataset.pickle', 'rb') as f:\n",
    "    data = pickle.load(f)\n",
    "\n",
    "list_original = [x['original'] for x in data]\n",
    "\n",
    "mrrs = []\n",
    "for row in data:\n",
    "    query = row['original']\n",
    "    retrieved = row['retrieved']\n",
    "    retrieved = retrieved[retrieved.title != query].reset_index(drop = True)\n",
    "    sorted_retrieved = retrieved.sort_values(by = ['rank_weighted_distance'], ascending = True).reset_index(drop = True)\n",
    "    structure = (query, sorted_retrieved.title.tolist())\n",
    "    mrrs.append(structure)\n",
    "\n",
    "mrr = calculate_mrr(mrrs)\n",
    "print('Mean Reciprocal Rank :', mrr)"
   ]
  },
  {
   "cell_type": "code",
   "execution_count": 55,
   "id": "6b874dd0-70b6-44bc-a787-9300c74836e8",
   "metadata": {},
   "outputs": [
    {
     "name": "stdout",
     "output_type": "stream",
     "text": [
      "Median Rank :  1.0\n"
     ]
    }
   ],
   "source": [
    "# MDR\n",
    "\n",
    "with open('./result/rhythm_pattern_production_dataset.pickle', 'rb') as f:\n",
    "    data = pickle.load(f)\n",
    "    \n",
    "list_original = [x['original'] for x in data]\n",
    "\n",
    "mrs = []\n",
    "for row in data:\n",
    "    query = row['original']\n",
    "    retrieved = row['retrieved']\n",
    "    retrieved = retrieved[retrieved.title != query].reset_index(drop = True)\n",
    "    query_base = query.split('_')[0]\n",
    "    is_relevant = [x.split('_')[0] == query_base for x in retrieved['title']]\n",
    "    retrieved['is_relevant'] = is_relevant\n",
    "    relevant_rank = retrieved[retrieved.is_relevant == True].rank_weighted_distance.min()\n",
    "    mrs.append(relevant_rank)\n",
    "    \n",
    "print('Median Rank : ',np.median(mrs))"
   ]
  },
  {
   "cell_type": "code",
   "execution_count": 56,
   "id": "9fab54b0-2439-414b-9b56-f2845f20ff59",
   "metadata": {},
   "outputs": [
    {
     "name": "stdout",
     "output_type": "stream",
     "text": [
      "Mean Average Precision :  0.5583071772765084\n"
     ]
    }
   ],
   "source": [
    "# MAP\n",
    "def calculate_average_precision(query_result, relevant_documents):\n",
    "    precision_sum = 0.0\n",
    "    relevant_count = 0\n",
    "\n",
    "    for i, document in enumerate(query_result):\n",
    "        if document.split('_')[0] == relevant_documents:\n",
    "            relevant_count += 1\n",
    "            precision_sum += relevant_count / (i + 1)  # Calculate precision at this rank\n",
    "\n",
    "    if relevant_count == 0:\n",
    "        return 0.0  # Return 0 if there are no relevant documents in the query result\n",
    "    else:\n",
    "        return precision_sum / relevant_count  # Average precision\n",
    "\n",
    "def calculate_mean_average_precision(query_results, relevance_judgments):\n",
    "    num_queries = len(query_results)\n",
    "    map_sum = 0.0\n",
    "\n",
    "    for i in range(num_queries):\n",
    "        average_precision = calculate_average_precision(query_results[i], relevance_judgments[i])\n",
    "        map_sum += average_precision\n",
    "\n",
    "    if num_queries == 0:\n",
    "        return 0.0  # Return 0 if there are no queries\n",
    "    else:\n",
    "        return map_sum / num_queries  # Mean Average Precision (MAP)\n",
    "    \n",
    "    \n",
    "with open('./result/rhythm_pattern_production_dataset.pickle', 'rb') as f:\n",
    "    data = pickle.load(f)\n",
    "\n",
    "returned_ranks = []\n",
    "relevant_base = []\n",
    "for row in data:\n",
    "    query = row['original']\n",
    "    retrieved = row['retrieved']\n",
    "    query_base = query.split('_')[0]\n",
    "    retrieved = retrieved[retrieved.title != query].reset_index(drop = True)\n",
    "    sorted_retrieved = retrieved.sort_values(by = ['rank_weighted_distance'], ascending = True).reset_index(drop = True)\n",
    "    returned = sorted_retrieved.iloc[:30].title.tolist()\n",
    "    returned_ranks.append(returned)\n",
    "    relevant_base.append(query_base)\n",
    "    \n",
    "print('Mean Average Precision : ', calculate_mean_average_precision(returned_ranks, relevant_base))\n",
    "\n",
    "    \n",
    "    "
   ]
  },
  {
   "cell_type": "markdown",
   "id": "597941a0-0cbd-436f-86ec-943aa11bf659",
   "metadata": {},
   "source": [
    "# SIMPLE FAST COVERS80"
   ]
  },
  {
   "cell_type": "code",
   "execution_count": 37,
   "id": "976eef61-f35d-4968-ad62-0852f539c5f2",
   "metadata": {},
   "outputs": [
    {
     "name": "stdout",
     "output_type": "stream",
     "text": [
      "Mean Rank :  4.525\n"
     ]
    }
   ],
   "source": [
    "# MR\n",
    "\n",
    "with open('./result/simple_fast_covers80_v2.pickle', 'rb') as f:\n",
    "    data = pickle.load(f)\n",
    "\n",
    "list_original = [x['original'] for x in data]\n",
    "mrs = []\n",
    "for row in data:\n",
    "    query = row['original']\n",
    "    retrieved = row['retrieved']\n",
    "    retrieved = retrieved[~retrieved.vid.isin(list_original)].reset_index(drop = True)\n",
    "    query_base = query.split('_')[0]\n",
    "    is_relevant = [x.split('_')[0] == query_base for x in retrieved['vid']]\n",
    "    retrieved['is_relevant'] = is_relevant\n",
    "    relevant_rank = retrieved[retrieved.is_relevant == True].ranked.min()\n",
    "    mrs.append(relevant_rank)\n",
    "    \n",
    "print('Mean Rank : ', sum(mrs)/ len(mrs))"
   ]
  },
  {
   "cell_type": "code",
   "execution_count": 41,
   "id": "3c96405a-1a24-446d-9216-54860bd1a73c",
   "metadata": {},
   "outputs": [
    {
     "name": "stdout",
     "output_type": "stream",
     "text": [
      "Mean Reciprocal Rank : 0.897713366104869\n"
     ]
    }
   ],
   "source": [
    "# MRR\n",
    "def calculate_mrr(queries_with_results):\n",
    "    total_mrr = 0\n",
    "    num_queries = len(queries_with_results)\n",
    "\n",
    "    for query, ranked_items in queries_with_results:\n",
    "        relevant_found = False\n",
    "        for i, item in enumerate(ranked_items, start=1):\n",
    "            if item.split('_')[0] == query.split('_')[0]:  # Assuming the relevant item is the query itself for simplicity\n",
    "                total_mrr += 1 / i\n",
    "                relevant_found = True\n",
    "                break\n",
    "\n",
    "        if not relevant_found:\n",
    "            total_mrr += 0  # If no relevant item found for the query, add 0.\n",
    "\n",
    "    mrr = total_mrr / num_queries\n",
    "    return mrr\n",
    "\n",
    "\n",
    "with open('./result/simple_fast_covers80_v2.pickle', 'rb') as f:\n",
    "    data = pickle.load(f)\n",
    "\n",
    "mrrs = []\n",
    "for row in data:\n",
    "    query = row['original']\n",
    "    retrieved = row['retrieved']\n",
    "    retrieved = retrieved[retrieved.vid != query].reset_index(drop = True)\n",
    "    sorted_retrieved = retrieved.sort_values(by = ['ranked'], ascending = True).reset_index(drop = True)\n",
    "    structure = (query, sorted_retrieved.vid.tolist())\n",
    "    mrrs.append(structure)\n",
    "\n",
    "mrr = calculate_mrr(mrrs)\n",
    "print('Mean Reciprocal Rank :', mrr)\n"
   ]
  },
  {
   "cell_type": "code",
   "execution_count": 43,
   "id": "45b369c9-81d8-423e-a43f-0011961858cf",
   "metadata": {},
   "outputs": [
    {
     "name": "stdout",
     "output_type": "stream",
     "text": [
      "Median Rank :  1.0\n"
     ]
    }
   ],
   "source": [
    "# MDR\n",
    "\n",
    "with open('./result/simple_fast_covers80_v2.pickle', 'rb') as f:\n",
    "    data = pickle.load(f)\n",
    "\n",
    "list_original = [x['original'] for x in data]\n",
    "mrs = []\n",
    "for row in data:\n",
    "    query = row['original']\n",
    "    retrieved = row['retrieved']\n",
    "    retrieved = retrieved[retrieved.vid != query].reset_index(drop = True)\n",
    "    query_base = query.split('_')[0]\n",
    "    is_relevant = [x.split('_')[0] == query_base for x in retrieved['vid']]\n",
    "    retrieved['is_relevant'] = is_relevant\n",
    "    relevant_rank = retrieved[retrieved.is_relevant == True].ranked.min()\n",
    "    mrs.append(relevant_rank)\n",
    "    \n",
    "print('Median Rank : ', np.median(mrs))"
   ]
  },
  {
   "cell_type": "code",
   "execution_count": 48,
   "id": "49ab2d04-11fd-43ee-a236-3f4d7873c076",
   "metadata": {},
   "outputs": [
    {
     "name": "stdout",
     "output_type": "stream",
     "text": [
      "Mean Average Precision :  0.8308160060802722\n"
     ]
    }
   ],
   "source": [
    "# MAP\n",
    "def calculate_average_precision(query_result, relevant_documents):\n",
    "    precision_sum = 0.0\n",
    "    relevant_count = 0\n",
    "\n",
    "    for i, document in enumerate(query_result):\n",
    "        if document.split('_')[0] == relevant_documents:\n",
    "            relevant_count += 1\n",
    "            precision_sum += relevant_count / (i + 1)  # Calculate precision at this rank\n",
    "\n",
    "    if relevant_count == 0:\n",
    "        return 0.0  # Return 0 if there are no relevant documents in the query result\n",
    "    else:\n",
    "        return precision_sum / relevant_count  # Average precision\n",
    "\n",
    "def calculate_mean_average_precision(query_results, relevance_judgments):\n",
    "    num_queries = len(query_results)\n",
    "    map_sum = 0.0\n",
    "\n",
    "    for i in range(num_queries):\n",
    "        average_precision = calculate_average_precision(query_results[i], relevance_judgments[i])\n",
    "        map_sum += average_precision\n",
    "\n",
    "    if num_queries == 0:\n",
    "        return 0.0  # Return 0 if there are no queries\n",
    "    else:\n",
    "        return map_sum / num_queries  # Mean Average Precision (MAP)\n",
    "    \n",
    "    \n",
    "with open('./result/simple_fast_covers80_v2.pickle', 'rb') as f:\n",
    "    data = pickle.load(f)\n",
    "\n",
    "returned_ranks = []\n",
    "relevant_base = []\n",
    "for row in data:\n",
    "    query = row['original']\n",
    "    retrieved = row['retrieved']\n",
    "    query_base = query.split('_')[0]\n",
    "    retrieved = retrieved[retrieved.vid != query].reset_index(drop = True)\n",
    "    sorted_retrieved = retrieved.sort_values(by = ['ranked'], ascending = True).reset_index(drop = True)\n",
    "    returned = sorted_retrieved.iloc[:30].vid.tolist()\n",
    "    returned_ranks.append(returned)\n",
    "    relevant_base.append(query_base)\n",
    "    \n",
    "print('Mean Average Precision : ', calculate_mean_average_precision(returned_ranks, relevant_base))"
   ]
  },
  {
   "cell_type": "code",
   "execution_count": null,
   "id": "3a7380da-98ac-4467-a0cc-477d911582d0",
   "metadata": {},
   "outputs": [],
   "source": []
  },
  {
   "cell_type": "markdown",
   "id": "f75a75b4-5504-4b1e-a66f-3f674a1e9667",
   "metadata": {},
   "source": [
    "# SIMPLE FAST PRODUCTION DATASET"
   ]
  },
  {
   "cell_type": "code",
   "execution_count": 57,
   "id": "45bbcfa2-c870-4b3e-83ba-7e4e04ac8c75",
   "metadata": {},
   "outputs": [
    {
     "name": "stdout",
     "output_type": "stream",
     "text": [
      "Mean Rank :  42.205128205128204\n"
     ]
    }
   ],
   "source": [
    "# MR\n",
    "\n",
    "with open('./result/simple_fast_production_dataset.pickle', 'rb') as f:\n",
    "    data = pickle.load(f)\n",
    "\n",
    "list_original = [x['original'] for x in data]\n",
    "mrs = []\n",
    "for row in data:\n",
    "    query = row['original']\n",
    "    retrieved = row['retrieved']\n",
    "    retrieved = retrieved[~retrieved.vid.isin(list_original)].reset_index(drop = True)\n",
    "    query_base = query.split('_')[0]\n",
    "    is_relevant = [x.split('_')[0] == query_base for x in retrieved['vid']]\n",
    "    retrieved['is_relevant'] = is_relevant\n",
    "    relevant_rank = retrieved[retrieved.is_relevant == True].ranked.min()\n",
    "    mrs.append(relevant_rank)\n",
    "    \n",
    "print('Mean Rank : ', sum(mrs)/ len(mrs))"
   ]
  },
  {
   "cell_type": "code",
   "execution_count": 58,
   "id": "3c3b1ca8-3a4c-4a4e-b199-17570cc625b7",
   "metadata": {},
   "outputs": [
    {
     "name": "stdout",
     "output_type": "stream",
     "text": [
      "Mean Reciprocal Rank : 0.8861521134922149\n"
     ]
    }
   ],
   "source": [
    "# MRR\n",
    "def calculate_mrr(queries_with_results):\n",
    "    total_mrr = 0\n",
    "    num_queries = len(queries_with_results)\n",
    "\n",
    "    for query, ranked_items in queries_with_results:\n",
    "        relevant_found = False\n",
    "        for i, item in enumerate(ranked_items, start=1):\n",
    "            if item.split('_')[0] == query.split('_')[0]:  # Assuming the relevant item is the query itself for simplicity\n",
    "                total_mrr += 1 / i\n",
    "                relevant_found = True\n",
    "                break\n",
    "\n",
    "        if not relevant_found:\n",
    "            total_mrr += 0  # If no relevant item found for the query, add 0.\n",
    "\n",
    "    mrr = total_mrr / num_queries\n",
    "    return mrr\n",
    "\n",
    "\n",
    "with open('./result/simple_fast_production_dataset.pickle', 'rb') as f:\n",
    "    data = pickle.load(f)\n",
    "\n",
    "mrrs = []\n",
    "for row in data:\n",
    "    query = row['original']\n",
    "    retrieved = row['retrieved']\n",
    "    retrieved = retrieved[retrieved.vid != query].reset_index(drop = True)\n",
    "    sorted_retrieved = retrieved.sort_values(by = ['ranked'], ascending = True).reset_index(drop = True)\n",
    "    structure = (query, sorted_retrieved.vid.tolist())\n",
    "    mrrs.append(structure)\n",
    "\n",
    "mrr = calculate_mrr(mrrs)\n",
    "print('Mean Reciprocal Rank :', mrr)\n"
   ]
  },
  {
   "cell_type": "code",
   "execution_count": 59,
   "id": "ad1088e7-48ad-4352-95e4-c175de8254fc",
   "metadata": {},
   "outputs": [
    {
     "name": "stdout",
     "output_type": "stream",
     "text": [
      "Median Rank :  1.0\n"
     ]
    }
   ],
   "source": [
    "# MDR\n",
    "\n",
    "with open('./result/simple_fast_production_dataset.pickle', 'rb') as f:\n",
    "    data = pickle.load(f)\n",
    "\n",
    "list_original = [x['original'] for x in data]\n",
    "mrs = []\n",
    "for row in data:\n",
    "    query = row['original']\n",
    "    retrieved = row['retrieved']\n",
    "    retrieved = retrieved[retrieved.vid != query].reset_index(drop = True)\n",
    "    query_base = query.split('_')[0]\n",
    "    is_relevant = [x.split('_')[0] == query_base for x in retrieved['vid']]\n",
    "    retrieved['is_relevant'] = is_relevant\n",
    "    relevant_rank = retrieved[retrieved.is_relevant == True].ranked.min()\n",
    "    mrs.append(relevant_rank)\n",
    "    \n",
    "print('Median Rank : ', np.median(mrs))"
   ]
  },
  {
   "cell_type": "code",
   "execution_count": 60,
   "id": "85a0b530-7870-4eba-a431-6decc4ec3015",
   "metadata": {},
   "outputs": [
    {
     "name": "stdout",
     "output_type": "stream",
     "text": [
      "Mean Average Precision :  0.8656683354959218\n"
     ]
    }
   ],
   "source": [
    "# MAP\n",
    "def calculate_average_precision(query_result, relevant_documents):\n",
    "    precision_sum = 0.0\n",
    "    relevant_count = 0\n",
    "\n",
    "    for i, document in enumerate(query_result):\n",
    "        if document.split('_')[0] == relevant_documents:\n",
    "            relevant_count += 1\n",
    "            precision_sum += relevant_count / (i + 1)  # Calculate precision at this rank\n",
    "\n",
    "    if relevant_count == 0:\n",
    "        return 0.0  # Return 0 if there are no relevant documents in the query result\n",
    "    else:\n",
    "        return precision_sum / relevant_count  # Average precision\n",
    "\n",
    "def calculate_mean_average_precision(query_results, relevance_judgments):\n",
    "    num_queries = len(query_results)\n",
    "    map_sum = 0.0\n",
    "\n",
    "    for i in range(num_queries):\n",
    "        average_precision = calculate_average_precision(query_results[i], relevance_judgments[i])\n",
    "        map_sum += average_precision\n",
    "\n",
    "    if num_queries == 0:\n",
    "        return 0.0  # Return 0 if there are no queries\n",
    "    else:\n",
    "        return map_sum / num_queries  # Mean Average Precision (MAP)\n",
    "    \n",
    "    \n",
    "with open('./result/simple_fast_production_dataset.pickle', 'rb') as f:\n",
    "    data = pickle.load(f)\n",
    "\n",
    "returned_ranks = []\n",
    "relevant_base = []\n",
    "for row in data:\n",
    "    query = row['original']\n",
    "    retrieved = row['retrieved']\n",
    "    query_base = query.split('_')[0]\n",
    "    retrieved = retrieved[retrieved.vid != query].reset_index(drop = True)\n",
    "    sorted_retrieved = retrieved.sort_values(by = ['ranked'], ascending = True).reset_index(drop = True)\n",
    "    returned = sorted_retrieved.iloc[:30].vid.tolist()\n",
    "    returned_ranks.append(returned)\n",
    "    relevant_base.append(query_base)\n",
    "    \n",
    "print('Mean Average Precision : ', calculate_mean_average_precision(returned_ranks, relevant_base))"
   ]
  },
  {
   "cell_type": "code",
   "execution_count": null,
   "id": "e9ce5bbe-9f75-4e34-9017-fd5ae33b10a2",
   "metadata": {},
   "outputs": [],
   "source": []
  }
 ],
 "metadata": {
  "environment": {
   "kernel": "songsure_v1",
   "name": "tf2-gpu.2-11.m111",
   "type": "gcloud",
   "uri": "gcr.io/deeplearning-platform-release/tf2-gpu.2-11:m111"
  },
  "kernelspec": {
   "display_name": "Python (Songsure_v1)",
   "language": "python",
   "name": "songsure_v1"
  },
  "language_info": {
   "codemirror_mode": {
    "name": "ipython",
    "version": 3
   },
   "file_extension": ".py",
   "mimetype": "text/x-python",
   "name": "python",
   "nbconvert_exporter": "python",
   "pygments_lexer": "ipython3",
   "version": "3.10.12"
  }
 },
 "nbformat": 4,
 "nbformat_minor": 5
}
